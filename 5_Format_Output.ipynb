{
 "cells": [
  {
   "cell_type": "markdown",
   "id": "6b6d2746",
   "metadata": {},
   "source": [
    "Version 1.0, 1-10-2025"
   ]
  },
  {
   "cell_type": "markdown",
   "id": "4dc4b2df-0089-44a0-9195-a4e7b1c45945",
   "metadata": {
    "nteract": {
     "transient": {
      "deleting": false
     }
    }
   },
   "source": [
    "# **5. Skript: Formattierung**"
   ]
  },
  {
   "cell_type": "markdown",
   "id": "94e41fa3-3c65-447b-ac88-543c14d3356c",
   "metadata": {
    "nteract": {
     "transient": {
      "deleting": false
     }
    }
   },
   "source": [
    "**Skript läuft in Azure Machine Learning Studio Empfohlene Compute-Umgebung: 16 Kerne, 64 GB RAM, 400 GB Festplatte (CPU) Kernel: Python 3.10 SDK v2**\n",
    "\n",
    "**1. Zelle: Installationen von zusätzlichen Libraries**"
   ]
  },
  {
   "cell_type": "code",
   "execution_count": null,
   "id": "4d5f90c7-01e0-439f-8174-b07501d3b444",
   "metadata": {},
   "outputs": [],
   "source": [
    "%pip install openpyxl==3.1.5"
   ]
  },
  {
   "cell_type": "markdown",
   "id": "e6993231-cfdf-44b1-8dec-4139c32f96e3",
   "metadata": {
    "nteract": {
     "transient": {
      "deleting": false
     }
    }
   },
   "source": [
    "**2. Zelle: Imports, define parameters, set hardcoded information**"
   ]
  },
  {
   "cell_type": "code",
   "execution_count": null,
   "id": "ba78ee9d-f451-4f91-abcf-46faaa216c7e",
   "metadata": {
    "gather": {
     "logged": 1759139241493
    }
   },
   "outputs": [],
   "source": [
    "# 14.3.25: fkt. für HMR\n",
    "# 11.4.24: formatting articles works\n",
    "# colors also clusters in Allg. Sheets\n",
    "# introduces thin borders everywhere\n",
    "\n",
    "\n",
    "from openpyxl import load_workbook\n",
    "from openpyxl.styles import PatternFill, Border, Side\n",
    "from openpyxl.styles import Alignment\n",
    "\n",
    "input_file = \"/YOUR/INPUT/FOLDER/PATH/HERE/FILE.XLSX\"\n",
    "output_file = f'{input_file}_formatted.xlsx'"
   ]
  },
  {
   "cell_type": "markdown",
   "id": "571de397-e284-4169-8df5-071e2bddca22",
   "metadata": {
    "nteract": {
     "transient": {
      "deleting": false
     }
    }
   },
   "source": [
    "**3. Zelle: Hauptskript**"
   ]
  },
  {
   "cell_type": "code",
   "execution_count": null,
   "id": "d5567352",
   "metadata": {
    "gather": {
     "logged": 1759140298896
    }
   },
   "outputs": [],
   "source": [
    "#from openpyxl.utils import get_column_letter\n",
    "\n",
    "def color_rows_by_cluster(sheet):\n",
    "    cluster_colors = {}\n",
    "    for row_num, row in enumerate(sheet.iter_rows(min_row=2, values_only=True), start=2):\n",
    "        cluster = row[0]  # Assuming \"cluster\" is the first column\n",
    "        if cluster not in cluster_colors:\n",
    "            color = generate_color(len(cluster_colors))  # Generate a unique light color for each cluster\n",
    "            cluster_colors[cluster] = color\n",
    "        \n",
    "        fill = PatternFill(start_color=cluster_colors[cluster], end_color=cluster_colors[cluster], fill_type=\"solid\")\n",
    "        border = Border(left=Side(style='thin', color='000000'),\n",
    "                        right=Side(style='thin', color='000000'),\n",
    "                        top=Side(style='thin', color='000000'),\n",
    "                        bottom=Side(style='thin', color='000000'))\n",
    "\n",
    "        for col_num, cell_value in enumerate(row, start=1):\n",
    "            cell = sheet.cell(row=row_num, column=col_num)\n",
    "            cell.fill = fill\n",
    "            cell.border = border\n",
    "\n",
    "def generate_color(cluster_index):\n",
    "    # Generate a light color based on the cluster index\n",
    "    light_colors = ['FFFF99', 'FFCCCC', '99FF99', '99FFFF', '9999FF', 'FF99FF', 'FF9999', 'CCCCCC']\n",
    "    return light_colors[cluster_index % len(light_colors)]\n",
    "\n",
    "# ev. rausnehmen\n",
    "def draw_line_for_artikel(sheet):\n",
    "    # Read header from the first row\n",
    "    header = [str(cell) for cell in next(sheet.iter_rows(min_row=1, max_row=1, values_only=True))]\n",
    "    \n",
    "    # Find the column index of \"Artikel\"\n",
    "    try:\n",
    "        artikel_col_index = header.index(\"Artikel\")\n",
    "    except ValueError:\n",
    "        raise ValueError(\"Column 'Artikel' not found in the sheet header\")\n",
    "    \n",
    "    prev_artikel = None\n",
    "\n",
    "    for row_num, row in enumerate(sheet.iter_rows(min_row=0, max_row=sheet.max_row, values_only=True), start=2):\n",
    "        artikel = str(row[artikel_col_index]) if row[artikel_col_index] is not None else \"\"  #draws a line after each new artikel from the column \"Artikel\"\n",
    "        if artikel != prev_artikel:\n",
    "            if row_num > 2:\n",
    "                thick_border = Border(top=Side(style='thick'), \n",
    "                                      right=Side(style='thin', color='000000'), \n",
    "                                      left=Side(style='thin', color='000000'))\n",
    "                for cell in sheet[row_num - 1]:\n",
    "                    cell.border = thick_border\n",
    "            prev_artikel = artikel\n",
    "\n",
    "#align and wrap all text            \n",
    "def align_text(sheet):\n",
    "    for row in sheet.iter_rows(min_row=1, max_row=sheet.max_row, min_col=1, max_col=sheet.max_column):\n",
    "        for cell in row:\n",
    "            if cell.value is not None:\n",
    "                cell.alignment = Alignment(wrap_text=True, vertical='top', horizontal='left')\n",
    "\n",
    "def format_workbook(input_file, output_file):\n",
    "    wb = load_workbook(filename=input_file, data_only=False)\n",
    "    for sheet in wb:\n",
    "        #sheet.freeze_panes = sheet['A2']  # Freezes the first row\n",
    "        sheet.freeze_panes = sheet['D2'] # Freezes the first row and the first three columns\n",
    "        align_text(sheet)\n",
    "        if len(sheet[1]) >= 7:  # Check if the sheet has six or more columns\n",
    "            artikel_column = any(\"Artikel\" in cell.value for cell in sheet[1])  # Check if \"Artikel\" exists in any cell of the header row\n",
    "            if artikel_column:\n",
    "                color_rows_by_cluster(sheet)\n",
    "                draw_line_for_artikel(sheet) #reinnehmen, damit dicke Linie zwischen Artikeln gezogen wird\n",
    "            else:\n",
    "                color_rows_by_cluster(sheet)\n",
    "        else:\n",
    "            color_rows_by_cluster(sheet)\n",
    "    \n",
    "    wb.save(output_file)\n",
    "\n",
    "    print(f\"Translated data saved to {output_file}\")\n",
    "\n",
    "# Example usage\n",
    "format_workbook(input_file, output_file)"
   ]
  }
 ],
 "metadata": {
  "kernel_info": {
   "name": "python310-sdkv2"
  },
  "kernelspec": {
   "display_name": "Python 3 (ipykernel)",
   "language": "python",
   "name": "python3"
  },
  "language_info": {
   "codemirror_mode": {
    "name": "ipython",
    "version": 3
   },
   "file_extension": ".py",
   "mimetype": "text/x-python",
   "name": "python",
   "nbconvert_exporter": "python",
   "pygments_lexer": "ipython3",
   "version": "3.11.5"
  },
  "microsoft": {
   "ms_spell_check": {
    "ms_spell_check_language": "de"
   }
  },
  "nteract": {
   "version": "nteract-front-end@1.0.0"
  }
 },
 "nbformat": 4,
 "nbformat_minor": 5
}
